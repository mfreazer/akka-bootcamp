{
  "nbformat": 4,
  "nbformat_minor": 0,
  "metadata": {
    "colab": {
      "name": "Untitled1.ipynb",
      "provenance": [],
      "authorship_tag": "ABX9TyNsPgoOLUyCIRmM48yPohmV",
      "include_colab_link": true
    },
    "kernelspec": {
      "name": "python3",
      "display_name": "Python 3"
    }
  },
  "cells": [
    {
      "cell_type": "markdown",
      "metadata": {
        "id": "view-in-github",
        "colab_type": "text"
      },
      "source": [
        "<a href=\"https://colab.research.google.com/github/mfreazer/akka-bootcamp/blob/master/Cours%20initiation%20Machine%20Language.ipynb\" target=\"_parent\"><img src=\"https://colab.research.google.com/assets/colab-badge.svg\" alt=\"Open In Colab\"/></a>"
      ]
    },
    {
      "cell_type": "code",
      "metadata": {
        "id": "0VIZIV0Ee_EL",
        "colab_type": "code",
        "colab": {}
      },
      "source": [
        ""
      ],
      "execution_count": null,
      "outputs": []
    },
    {
      "cell_type": "markdown",
      "metadata": {
        "id": "SKHPotyrhJV2",
        "colab_type": "text"
      },
      "source": [
        "# **Machine Learning supervisé**\n",
        "Un système de machine learning **supervisé** crée des **modèles** combinant des ***entrées*** pour formuler des ***prédictions*** même sur des données inédites.\n",
        "\n",
        "Lorsque nous entraînons un tel modèle, nous y ajoutons des *étiquettes*.\n",
        "\n",
        "Par exemple, concernant le filtrage de spam, vous pouvez attribuer l'étiquette \"spam ou fiable\".Voilà donc ce que nous essayons de prédire.\n",
        "\n",
        "\n",
        "```\n",
        "étiquette:\n",
        "          spam\n",
        "          fiable\n",
        "```\n",
        "\n",
        "Les caractéristiques représentent en fait nos données.\n",
        "0:46\tElles peuvent être tirées de mots dans un e-mail, d'adresses d'expéditeurs et de destinataires,\n",
        "0:54\td'informations de routage ou d'en-tête divers, ou de toute autre donnée que nous pouvons extraire de cet e-mail\n",
        "0:59\tafin de représenter ces infos pour notre système.\n",
        "1:03\tPrenons un seul élément de donnée.\n",
        "1:05\tPar exemple, un e-mail.\n",
        "1:08\tCela peut-être un exemple avec une étiquette contenant à la fois des infos représentées dans cet e-mail et la valeur d'étiquette \"spam ou fiable\".\n",
        "1:18\tPeut-être cela vient-il de quelqu'un qui nous l'a fourni.\n",
        "1:21\tOu alors un exemple sans étiquette, comme un élément d'e-mail pour lequel nous avons des infos, sans toutefois savoir si c'est du spam ou non.\n",
        "1:29\tEt sans doute allons-nous le classer et le déplacer vers la boîte de réception ou le dossier \"Spam\".\n",
        "1:35\tEnfin, nous avons un modèle, lequel va pouvoir être employé pour les prédictions.\n",
        "1:40\tC'est ce que nous allons essayer et créer via un processus d'apprentissage à base de données.\n"
      ]
    },
    {
      "cell_type": "code",
      "metadata": {
        "id": "_mpQZxtWhISN",
        "colab_type": "code",
        "colab": {}
      },
      "source": [
        ""
      ],
      "execution_count": null,
      "outputs": []
    }
  ]
}